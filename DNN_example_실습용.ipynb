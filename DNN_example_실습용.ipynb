{
  "cells": [
    {
      "cell_type": "code",
      "execution_count": 1,
      "id": "a2d19805",
      "metadata": {
        "id": "a2d19805"
      },
      "outputs": [],
      "source": [
        "# !pip install tensorflow"
      ]
    },
    {
      "cell_type": "code",
      "execution_count": 2,
      "id": "8d2048a8",
      "metadata": {
        "id": "8d2048a8",
        "outputId": "563f459d-c4b7-4d97-c846-4ef885fe42f0",
        "colab": {
          "base_uri": "https://localhost:8080/"
        }
      },
      "outputs": [
        {
          "output_type": "stream",
          "name": "stdout",
          "text": [
            "Downloading data from https://storage.googleapis.com/tensorflow/tf-keras-datasets/mnist.npz\n",
            "\u001b[1m11490434/11490434\u001b[0m \u001b[32m━━━━━━━━━━━━━━━━━━━━\u001b[0m\u001b[37m\u001b[0m \u001b[1m0s\u001b[0m 0us/step\n"
          ]
        }
      ],
      "source": [
        "import tensorflow as tf\n",
        "from tensorflow import keras\n",
        "from tensorflow.keras import layers # deep learning layer 쌓기 위한 도구?\n",
        "import matplotlib.pyplot as plt\n",
        "import warnings\n",
        "warnings.filterwarnings(\"ignore\") # 버전 안 맞을때 warning을 무시\n",
        "\n",
        "# Load the MNIST dataset\n",
        "(x_train, y_train), (x_test, y_test) = keras.datasets.mnist.load_data()\n",
        "\n",
        "# Preprocess the data\n",
        "x_train = x_train.astype(\"float32\") / 255.0\n",
        "x_test = x_test.astype(\"float32\") / 255.0\n",
        "y_train = (y_train == 3).astype(\"float32\")\n",
        "y_test = (y_test == 3).astype(\"float32\")\n"
      ]
    },
    {
      "cell_type": "code",
      "execution_count": null,
      "id": "ac66915f",
      "metadata": {
        "id": "ac66915f"
      },
      "outputs": [],
      "source": [
        "# model construct\n",
        "model = keras.Sequential([\n",
        "    layers.Flatten(input_shape=(28, 28)),\n",
        "    layers.Dense(, activation=),\n",
        "    layers.Dense(, activation=)\n",
        "])\n"
      ]
    },
    {
      "cell_type": "code",
      "execution_count": null,
      "id": "7ed4e4c0",
      "metadata": {
        "id": "7ed4e4c0"
      },
      "outputs": [],
      "source": [
        "\n",
        "# Define the SGD optimizer\n",
        "optimizer = keras.optimizers.SGD(learning_rate=0.1)\n",
        "\n",
        "# Compile the model\n",
        "model.compile(loss=\"\", optimizer=optimizer, metrics=[\"\"])"
      ]
    },
    {
      "cell_type": "code",
      "execution_count": null,
      "id": "4f50d69c",
      "metadata": {
        "id": "4f50d69c"
      },
      "outputs": [],
      "source": [
        "# Define a callback to track the training loss\n",
        "class LossHistory(keras.callbacks.Callback):\n",
        "    def __init__(self):\n",
        "        super(LossHistory, self).__init__()\n",
        "        self.losses = []\n",
        "\n",
        "    def on_epoch_end(self, epoch, logs=None):\n",
        "        self.losses.append(logs['loss'])\n",
        "\n",
        "history = LossHistory()\n",
        "# class에 대한 자세한 설명은 다음/다른 수업에서의 기회로 넘기겠습니다."
      ]
    },
    {
      "cell_type": "code",
      "execution_count": null,
      "id": "b8ed37c6",
      "metadata": {
        "id": "b8ed37c6"
      },
      "outputs": [],
      "source": [
        "# Train the model\n",
        "epochs =\n",
        "batch_size =\n",
        "\n",
        "model.fit(x_train, y_train, batch_size=batch_size, epochs=epochs, callbacks=[history])\n",
        "\n",
        "# Plot the training loss\n",
        "plt.plot(range(len(history.losses)), history.losses)\n",
        "plt.title(\"Training Loss\")\n",
        "plt.xlabel(\"Epoch\")\n",
        "plt.ylabel(\"Loss\")\n",
        "plt.show()\n",
        "\n",
        "# Evaluate the model\n",
        "test_loss, test_acc = model.evaluate(x_test, y_test)\n",
        "print(\"Test accuracy:\", test_acc)"
      ]
    },
    {
      "cell_type": "code",
      "execution_count": null,
      "id": "1504f547",
      "metadata": {
        "id": "1504f547"
      },
      "outputs": [],
      "source": [
        "# Predict on the test set\n",
        "y_pred = model.predict(x_test)\n",
        "\n",
        "# Visualize some of the test images with their predicted labels\n",
        "fig, axes = plt.subplots(10, 10, figsize=(17, 17))\n",
        "for i, ax in enumerate(axes.flat):\n",
        "    ax.imshow(x_test[i], cmap='gray')\n",
        "    ax.set_xticks([])\n",
        "    ax.set_yticks([])\n",
        "    ax.set_title(f\"Predicted: {y_pred[i][0]:.2f}\")\n",
        "plt.show()"
      ]
    },
    {
      "cell_type": "code",
      "execution_count": null,
      "id": "6f69e739",
      "metadata": {
        "id": "6f69e739"
      },
      "outputs": [],
      "source": []
    }
  ],
  "metadata": {
    "kernelspec": {
      "display_name": "Python 3 (ipykernel)",
      "language": "python",
      "name": "python3"
    },
    "language_info": {
      "codemirror_mode": {
        "name": "ipython",
        "version": 3
      },
      "file_extension": ".py",
      "mimetype": "text/x-python",
      "name": "python",
      "nbconvert_exporter": "python",
      "pygments_lexer": "ipython3",
      "version": "3.12.4"
    },
    "colab": {
      "provenance": []
    }
  },
  "nbformat": 4,
  "nbformat_minor": 5
}